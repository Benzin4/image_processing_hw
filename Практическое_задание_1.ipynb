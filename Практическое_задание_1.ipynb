{
  "cells": [
    {
      "cell_type": "markdown",
      "metadata": {
        "id": "n-qtNGBQkj_9"
      },
      "source": [
        "\n",
        "\n",
        "\n",
        "\n",
        " **Практическое задание №1**"
      ]
    },
    {
      "cell_type": "code",
      "source": [
        "pip install opencv-python"
      ],
      "metadata": {
        "colab": {
          "base_uri": "https://localhost:8080/"
        },
        "id": "KYw5thGjtXqa",
        "outputId": "698a8307-75b9-4fd9-a4ae-7a60e8916357"
      },
      "execution_count": 2,
      "outputs": [
        {
          "output_type": "stream",
          "name": "stdout",
          "text": [
            "Requirement already satisfied: opencv-python in /usr/local/lib/python3.10/dist-packages (4.10.0.84)\n",
            "Requirement already satisfied: numpy>=1.21.2 in /usr/local/lib/python3.10/dist-packages (from opencv-python) (1.26.4)\n"
          ]
        }
      ]
    },
    {
      "cell_type": "code",
      "source": [
        "import numpy as np\n",
        "import cv2\n",
        "from google.colab.patches import cv2_imshow"
      ],
      "metadata": {
        "id": "fuo3StC2sjsH"
      },
      "execution_count": 10,
      "outputs": []
    },
    {
      "cell_type": "code",
      "source": [
        "# Список путей к изображениям\n",
        "image_file_paths = [\"1.JPG\", \"2.jpg\", \"3.jpg\", \"4.jpg\", \"5.JPG\"]\n",
        "\n",
        "# Базовый массив 5x5 для фильтрации\n",
        "low_pass_filter = np.array(\n",
        "    [[1, 1, 1, 1, 1],\n",
        "     [1, 1, 1, 1, 1],\n",
        "     [1, 1, 1, 1, 1],\n",
        "     [1, 1, 1, 1, 1],\n",
        "     [1, 1, 1, 1, 1]]\n",
        "    )\n",
        "\n",
        "# Нормализуем фильтр низких частот\n",
        "low_pass_filter = low_pass_filter / (np.sum(low_pass_filter) if np.sum(low_pass_filter) != 0 else 1)\n",
        "\n",
        "# Фильтр высоких частот\n",
        "high_pass_filter = np.array([\n",
        "    [0.0, -1.0, 0.0],\n",
        "    [-1.0, 4.0, -1.0],\n",
        "    [0.0, -1.0, 0.0]\n",
        "])\n",
        "\n",
        "# Нормализуем фильтр высоких частот\n",
        "high_pass_filter /= (np.sum(high_pass_filter) if np.sum(high_pass_filter) != 0 else 1)\n",
        "\n",
        "# Кастомный фильтр\n",
        "custom_filter = np.array([\n",
        "      [0, 1, 0],\n",
        "      [1, 2, 1],\n",
        "      [0, 1, 0]\n",
        "])\n",
        "\n",
        "# Нормализуем кастомный фильтр\n",
        "custom_filter = custom_filter / (np.sum(custom_filter) if np.sum(custom_filter) != 0 else 1)\n"
      ],
      "metadata": {
        "id": "GA8Ybwnrxrw9"
      },
      "execution_count": 13,
      "outputs": []
    },
    {
      "cell_type": "code",
      "execution_count": 14,
      "metadata": {
        "id": "LFXdK7WOiPK9"
      },
      "outputs": [],
      "source": [
        "#path for images\n",
        "image_paths = [\"1.JPG\", \"2.jpg\", \"3.jpg\", \"4.jpg\", \"5.JPG\"]\n",
        "#5*5 base array for filtering\n",
        "kernel_low = np.array(\n",
        "    [[1, 1, 1, 1, 1],\n",
        "     [1, 1, 1, 1, 1],\n",
        "     [1, 1, 1, 1, 1],\n",
        "     [1, 1, 1, 1, 1],\n",
        "     [1, 1, 1, 1, 1]]\n",
        ")\n",
        "\n",
        "kernel_high = np.array(\n",
        "    [[0.0, -1.0, 0.0],\n",
        "     [-1.0, 4.0, -1.0],\n",
        "     [0.0, -1.0, 0.0]])\n",
        "\n",
        "kernel_kustom = np.array(\n",
        "    [[0, 1, 0],\n",
        "     [1, 2, 1],\n",
        "     [0, 1, 0]]\n",
        ")\n",
        "\n",
        "kernel_low = kernel_low / (np.sum(kernel_low) if np.sum(kernel_low) != 0 else 1)\n",
        "kernel_high = kernel_high / (np.sum(kernel_high) if np.sum(kernel_high) != 0 else 1)\n",
        "kernel_kustom = kernel_kustom / (np.sum(kernel_kustom) if np.sum(kernel_kustom) != 0 else 1)"
      ]
    },
    {
      "cell_type": "code",
      "source": [
        "# Обработка изображений\n",
        "for image_path in image_file_paths:\n",
        "    # Чтение изображения\n",
        "    image = cv2.imread(image_path)\n",
        "\n",
        "    # Применение фильтров\n",
        "    low_pass_result = cv2.filter2D(image, -1, low_pass_filter)\n",
        "    high_pass_result = cv2.filter2D(image, -1, high_pass_filter)\n",
        "\n",
        "    # Объединение результатов\n",
        "    combined_result = np.concatenate((low_pass_result, high_pass_result), axis=1)\n",
        "    print(f\"Combined image shape: {combined_result.shape}\")\n",
        "\n",
        "    # Отображение объединенного изображения\n",
        "    cv2.imshow(\"Combined Filtered Image\", combined_result)\n",
        "    cv2.waitKey(0)  # Ожидание нажатия клавиши для закрытия окна\n",
        "\n",
        "cv2.destroyAllWindows()  # Закрытие всех окон после завершения"
      ],
      "metadata": {
        "colab": {
          "base_uri": "https://localhost:8080/",
          "height": 435
        },
        "id": "yS4zkrWb16S-",
        "outputId": "eec2dab0-97c2-4f59-9ab4-eaea5192d339"
      },
      "execution_count": 15,
      "outputs": [
        {
          "output_type": "stream",
          "name": "stdout",
          "text": [
            "Combined image shape: (1024, 3072, 3)\n"
          ]
        },
        {
          "output_type": "error",
          "ename": "DisabledFunctionError",
          "evalue": "cv2.imshow() is disabled in Colab, because it causes Jupyter sessions\nto crash; see https://github.com/jupyter/notebook/issues/3935.\nAs a substitution, consider using\n  from google.colab.patches import cv2_imshow\n",
          "traceback": [
            "\u001b[0;31m---------------------------------------------------------------------------\u001b[0m",
            "\u001b[0;31mDisabledFunctionError\u001b[0m                     Traceback (most recent call last)",
            "\u001b[0;32m<ipython-input-15-9d977103563d>\u001b[0m in \u001b[0;36m<cell line: 2>\u001b[0;34m()\u001b[0m\n\u001b[1;32m     13\u001b[0m \u001b[0;34m\u001b[0m\u001b[0m\n\u001b[1;32m     14\u001b[0m     \u001b[0;31m# Отображение объединенного изображения\u001b[0m\u001b[0;34m\u001b[0m\u001b[0;34m\u001b[0m\u001b[0m\n\u001b[0;32m---> 15\u001b[0;31m     \u001b[0mcv2\u001b[0m\u001b[0;34m.\u001b[0m\u001b[0mimshow\u001b[0m\u001b[0;34m(\u001b[0m\u001b[0;34m\"Combined Filtered Image\"\u001b[0m\u001b[0;34m,\u001b[0m \u001b[0mcombined_result\u001b[0m\u001b[0;34m)\u001b[0m\u001b[0;34m\u001b[0m\u001b[0;34m\u001b[0m\u001b[0m\n\u001b[0m\u001b[1;32m     16\u001b[0m     \u001b[0mcv2\u001b[0m\u001b[0;34m.\u001b[0m\u001b[0mwaitKey\u001b[0m\u001b[0;34m(\u001b[0m\u001b[0;36m0\u001b[0m\u001b[0;34m)\u001b[0m  \u001b[0;31m# Ожидание нажатия клавиши для закрытия окна\u001b[0m\u001b[0;34m\u001b[0m\u001b[0;34m\u001b[0m\u001b[0m\n\u001b[1;32m     17\u001b[0m \u001b[0;34m\u001b[0m\u001b[0m\n",
            "\u001b[0;32m/usr/local/lib/python3.10/dist-packages/google/colab/_import_hooks/_cv2.py\u001b[0m in \u001b[0;36mwrapped\u001b[0;34m(*args, **kwargs)\u001b[0m\n\u001b[1;32m     46\u001b[0m   \u001b[0;32mdef\u001b[0m \u001b[0mwrapped\u001b[0m\u001b[0;34m(\u001b[0m\u001b[0;34m*\u001b[0m\u001b[0margs\u001b[0m\u001b[0;34m,\u001b[0m \u001b[0;34m**\u001b[0m\u001b[0mkwargs\u001b[0m\u001b[0;34m)\u001b[0m\u001b[0;34m:\u001b[0m\u001b[0;34m\u001b[0m\u001b[0;34m\u001b[0m\u001b[0m\n\u001b[1;32m     47\u001b[0m     \u001b[0;32mif\u001b[0m \u001b[0;32mnot\u001b[0m \u001b[0mos\u001b[0m\u001b[0;34m.\u001b[0m\u001b[0menviron\u001b[0m\u001b[0;34m.\u001b[0m\u001b[0mget\u001b[0m\u001b[0;34m(\u001b[0m\u001b[0menv_var\u001b[0m\u001b[0;34m,\u001b[0m \u001b[0;32mFalse\u001b[0m\u001b[0;34m)\u001b[0m\u001b[0;34m:\u001b[0m\u001b[0;34m\u001b[0m\u001b[0;34m\u001b[0m\u001b[0m\n\u001b[0;32m---> 48\u001b[0;31m       \u001b[0;32mraise\u001b[0m \u001b[0mDisabledFunctionError\u001b[0m\u001b[0;34m(\u001b[0m\u001b[0mmessage\u001b[0m\u001b[0;34m,\u001b[0m \u001b[0mname\u001b[0m \u001b[0;32mor\u001b[0m \u001b[0mfunc\u001b[0m\u001b[0;34m.\u001b[0m\u001b[0m__name__\u001b[0m\u001b[0;34m)\u001b[0m\u001b[0;34m\u001b[0m\u001b[0;34m\u001b[0m\u001b[0m\n\u001b[0m\u001b[1;32m     49\u001b[0m     \u001b[0;32mreturn\u001b[0m \u001b[0mfunc\u001b[0m\u001b[0;34m(\u001b[0m\u001b[0;34m*\u001b[0m\u001b[0margs\u001b[0m\u001b[0;34m,\u001b[0m \u001b[0;34m**\u001b[0m\u001b[0mkwargs\u001b[0m\u001b[0;34m)\u001b[0m\u001b[0;34m\u001b[0m\u001b[0;34m\u001b[0m\u001b[0m\n\u001b[1;32m     50\u001b[0m \u001b[0;34m\u001b[0m\u001b[0m\n",
            "\u001b[0;31mDisabledFunctionError\u001b[0m: cv2.imshow() is disabled in Colab, because it causes Jupyter sessions\nto crash; see https://github.com/jupyter/notebook/issues/3935.\nAs a substitution, consider using\n  from google.colab.patches import cv2_imshow\n"
          ],
          "errorDetails": {
            "actions": [
              {
                "action": "open_snippet",
                "actionText": "Search Snippets for cv2.imshow",
                "snippetFilter": "cv2.imshow"
              }
            ]
          }
        }
      ]
    },
    {
      "cell_type": "code",
      "execution_count": null,
      "metadata": {
        "id": "D271hwnojo5A"
      },
      "outputs": [],
      "source": [
        "\n",
        "for path in image_paths:\n",
        "    img = cv2.imread(path)\n",
        "\n",
        "    img_k_low = cv2.filter2D(img, -1, kernel_low)\n",
        "    img_k_high = cv2.filter2D(img, -1, kernel_high)\n",
        "\n",
        "    combined = np.concatenate((img_k_low, img_k_high), axis=1)\n",
        "    print(combined.shape)\n",
        "\n",
        "    cv2_imshow(combined)"
      ]
    },
    {
      "cell_type": "markdown",
      "source": [
        "Фильтр с низкими частотами сглаживает изображение и уменьшает резкие переходы\n",
        "\n",
        "Фильтр с высокими частотами помогает выделить границы и контуры"
      ],
      "metadata": {
        "id": "AC3rLzTts6OH"
      }
    },
    {
      "cell_type": "code",
      "source": [
        "image_path = cv2.imread(\"5.JPG\")\n",
        "img_resize = cv2.resize(image_path, (1800, 1800))\n",
        "kernel_low = np.array(\n",
        "    [[1, 1, 1, 1, 1],\n",
        "     [1, 1, 1, 1, 1],\n",
        "     [1, 1, 1, 1, 1],\n",
        "     [1, 1, 1, 1, 1],\n",
        "     [1, 1, 1, 1, 1]]\n",
        ")\n",
        "\n",
        "kernel_high = np.array(\n",
        "    [[0.0, -1.0, 0.0],\n",
        "     [-1.0, 4.0, -1.0],\n",
        "     [0.0, -1.0, 0.0]])\n",
        "\n",
        "kernel_kustom = np.array(\n",
        "    [[-1, -2, -1],\n",
        "     [0, 0, 0],\n",
        "     [1, 2, 1]]\n",
        ")\n",
        "\n",
        "kernel_low = kernel_low / (np.sum(kernel_low) if np.sum(kernel_low) != 0 else 1)\n",
        "kernel_high = kernel_high / (np.sum(kernel_high) if np.sum(kernel_high) != 0 else 1)\n",
        "kernel_kustom = kernel_kustom / (np.sum(kernel_kustom) if np.sum(kernel_kustom) != 0 else 1)\n",
        "img_k_low = cv2.filter2D(img_resize, -1, kernel_low)\n",
        "img_k_high = cv2.filter2D(img_resize, -1, kernel_high)\n",
        "\n",
        "combined = np.concatenate((img_k_low, img_k_high), axis=1)\n",
        "\n",
        "cv2_imshow(img_resize)\n",
        "cv2_imshow(combined)\n"
      ],
      "metadata": {
        "id": "0aXVxRCMmx8H"
      },
      "execution_count": null,
      "outputs": []
    },
    {
      "cell_type": "markdown",
      "source": [],
      "metadata": {
        "id": "aCNZrVP9rJhT"
      }
    },
    {
      "cell_type": "code",
      "execution_count": null,
      "metadata": {
        "id": "I6XEZDFzmaLA"
      },
      "outputs": [],
      "source": [
        "img_my=cv2.imread(\"6.jpg\")\n",
        "\n",
        "kernel_kustom = np.array(\n",
        "    [[-1, -2, -1],\n",
        "     [0, 0, 0],\n",
        "     [1, 2, 1]]\n",
        ")\n",
        "\n",
        "kernel_kustom = kernel_kustom/ (np.sum(kernel_kustom) if np.sum(kernel_kustom) != 0 else 1)\n",
        "\n",
        "photo = cv2.filter2D(img_my, -1, kernel_kustom)\n",
        "vsevmeste = np.concatenate((img_my, photo), axis=1)\n",
        "cv2_imshow(vsevmeste)"
      ]
    },
    {
      "cell_type": "markdown",
      "source": [
        "Данный фильтр помогает обнаружить горизонтальные границы на изображении"
      ],
      "metadata": {
        "id": "IAWaK0PJtSSr"
      }
    }
  ],
  "metadata": {
    "colab": {
      "provenance": []
    },
    "kernelspec": {
      "display_name": "Python 3",
      "name": "python3"
    },
    "language_info": {
      "name": "python"
    }
  },
  "nbformat": 4,
  "nbformat_minor": 0
}